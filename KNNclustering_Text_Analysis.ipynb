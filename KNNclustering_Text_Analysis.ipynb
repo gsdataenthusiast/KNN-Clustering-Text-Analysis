{
  "nbformat": 4,
  "nbformat_minor": 0,
  "metadata": {
    "colab": {
      "name": "KNNclustering_Text Analysis",
      "provenance": [],
      "collapsed_sections": [],
      "toc_visible": true
    },
    "kernelspec": {
      "name": "python3",
      "display_name": "Python 3"
    }
  },
  "cells": [
    {
      "cell_type": "code",
      "metadata": {
        "id": "wtUEc8J_OwIu"
      },
      "source": [
        "#download 100patients.zip from google drive\n",
        "!pip install -U -q PyDrive\n",
        "from pydrive.auth import GoogleAuth\n",
        "from pydrive.drive import GoogleDrive\n",
        "from google.colab import auth\n",
        "from oauth2client.client import GoogleCredentials\n",
        "\n",
        "# 1. Authenticate and create the PyDrive client.\n",
        "auth.authenticate_user()\n",
        "gauth = GoogleAuth()\n",
        "gauth.credentials = GoogleCredentials.get_application_default()\n",
        "drive = GoogleDrive(gauth)\n",
        "\n",
        "# 2. Download actual file\n",
        "file_patients = drive.CreateFile({'id': '1411dbH9v-1M92CulcOGVTzQ1pKN-CwfG'})\n",
        "file_patients.GetContentFile('100-patients.zip')\n"
      ],
      "execution_count": null,
      "outputs": []
    },
    {
      "cell_type": "code",
      "metadata": {
        "id": "7eWQaVKtO8vW",
        "colab": {
          "base_uri": "https://localhost:8080/",
          "height": 119
        },
        "outputId": "2818b9f3-e5c6-4d96-8a67-1b8e107996a3"
      },
      "source": [
        "!unzip 100-patients.zip"
      ],
      "execution_count": null,
      "outputs": [
        {
          "output_type": "stream",
          "text": [
            "Archive:  100-patients.zip\n",
            "  inflating: AdmissionsDiagnosesCorePopulatedTable.txt  \n",
            "  inflating: AdmissionsCorePopulatedTable.txt  \n",
            "  inflating: LabsCorePopulatedTable.txt  \n",
            "  inflating: PatientCorePopulatedTable.txt  \n",
            "  inflating: ReadMe.txt              \n"
          ],
          "name": "stdout"
        }
      ]
    },
    {
      "cell_type": "code",
      "metadata": {
        "id": "_7_G0vnrO_Hx",
        "colab": {
          "base_uri": "https://localhost:8080/",
          "height": 1000
        },
        "outputId": "e3c20039-4211-492a-e2bc-8d4b63e813cd"
      },
      "source": [
        "from sklearn.feature_extraction.text import TfidfVectorizer\n",
        "from sklearn.cluster import KMeans\n",
        "import numpy as np\n",
        "import pandas as pd\n",
        "\n",
        "#Take the PrimaryDiagnosisDescription column as raw clinical note tet\n",
        "df_admdiag = pd.read_table('AdmissionsDiagnosesCorePopulatedTable.txt')\n",
        "\n",
        "#show a few records of raw text\n",
        "print(df_admdiag['PrimaryDiagnosisDescription'][0:10])\n",
        "\n",
        "#vectorize the text into keyword vectors\n",
        "vectorizer = TfidfVectorizer(stop_words='english')\n",
        "X = vectorizer.fit_transform(df_admdiag['PrimaryDiagnosisDescription'])\n",
        "\n",
        "#cluster using Euclidean distance\n",
        "#(not as good as cosine distance for text but it works for this dataset)\n",
        "true_k = 10 # just picking 5 clusters randomly\n",
        "model = KMeans(n_clusters=true_k, init='k-means++', max_iter=100, n_init=1)\n",
        "model.fit(X)\n",
        "clust_labels = model.predict(X)\n",
        "\n",
        "order_centroids = model.cluster_centers_.argsort()[:, ::-1]\n",
        "terms = vectorizer.get_feature_names()\n",
        "\n",
        "#show some of the terms associated with cluster centroids\n",
        "for i in range(true_k):\n",
        "  print(\"Cluster %d:\" % i),\n",
        "  for ind in order_centroids[i, :5]:\n",
        "    print(' %s' % terms[ind])"
      ],
      "execution_count": null,
      "outputs": [
        {
          "output_type": "stream",
          "text": [
            "0    Direct infection of joint in infectious and pa...\n",
            "1    Disseminated intravascular coagulation [defibr...\n",
            "2           Chronic myeloid leukemia, BCR/ABL-positive\n",
            "3    Rheumatoid polyneuropathy with rheumatoid arth...\n",
            "4    Acute lymphoblastic leukemia not having achiev...\n",
            "5    Nerve root and plexus compressions in diseases...\n",
            "6    Thoracic, thoracolumbar, and lumbosacral inter...\n",
            "7    Renal failure following (induced) termination ...\n",
            "8                        Malignant neoplasm of trachea\n",
            "9    Rheumatoid myopathy with rheumatoid arthritis ...\n",
            "Name: PrimaryDiagnosisDescription, dtype: object\n",
            "Cluster 0:\n",
            " diseases\n",
            " classified\n",
            " infectious\n",
            " parasitic\n",
            " osteonecrosis\n",
            "Cluster 1:\n",
            " complicating\n",
            " pregnancy\n",
            " puerperium\n",
            " trimester\n",
            " diseases\n",
            "Cluster 2:\n",
            " renal\n",
            " impairment\n",
            " gout\n",
            " kidney\n",
            " left\n",
            "Cluster 3:\n",
            " rheumatoid\n",
            " arthritis\n",
            " factor\n",
            " coronary\n",
            " vasculitis\n",
            "Cluster 4:\n",
            " diabetes\n",
            " mellitus\n",
            " diabetic\n",
            " type\n",
            " retinopathy\n",
            "Cluster 5:\n",
            " disorders\n",
            " classified\n",
            " related\n",
            " puberty\n",
            " opioid\n",
            "Cluster 6:\n",
            " disease\n",
            " left\n",
            " reiter\n",
            " intestine\n",
            " hip\n",
            "Cluster 7:\n",
            " neoplasm\n",
            " malignant\n",
            " benign\n",
            " behavior\n",
            " uncertain\n",
            "Cluster 8:\n",
            " leukemia\n",
            " acute\n",
            " relapse\n",
            " cell\n",
            " remission\n",
            "Cluster 9:\n",
            " disorder\n",
            " ligament\n",
            " abuse\n",
            " psychotic\n",
            " induced\n"
          ],
          "name": "stdout"
        }
      ]
    },
    {
      "cell_type": "code",
      "metadata": {
        "id": "OrSwXSHhPFdz",
        "colab": {
          "base_uri": "https://localhost:8080/",
          "height": 286
        },
        "outputId": "b376d55b-b784-4b19-c989-6f917616ff44"
      },
      "source": [
        "# tfidf vectors have many dimensions, to visualize we must reduce to two dimensions\n",
        "from sklearn.decomposition import TruncatedSVD\n",
        "import matplotlib.pyplot as plt\n",
        "\n",
        "pca = TruncatedSVD(n_components=2).fit(X)\n",
        "data2D = pca.transform(X)\n",
        "plt.scatter(data2D[:,0], data2D[:,1], c=clust_labels,cmap='viridis')\n",
        "plt.colorbar()  # show color scale\n",
        "\n",
        "query = vectorizer.transform(['Mood disorder due to known acute rheumatoid arthritis'])\n",
        "predicted = model.predict(query)\n",
        "\n",
        "query2D = pca.transform(query)\n",
        "plt.scatter(query2D[0,0], query2D[0,1], c='red', label=predicted)\n",
        "\n",
        "plt.show() \n",
        "print('query sentence belongs to cluster %d' % predicted[0])"
      ],
      "execution_count": null,
      "outputs": [
        {
          "output_type": "display_data",
          "data": {
            "image/png": "[encoded data removed]",
            "text/plain": [
              "<Figure size 432x288 with 2 Axes>"
            ]
          },
          "metadata": {
            "tags": [],
            "needs_background": "light"
          }
        },
        {
          "output_type": "stream",
          "text": [
            "query sentence belongs to cluster 0\n"
          ],
          "name": "stdout"
        }
      ]
    },
    {
      "cell_type": "markdown",
      "metadata": {
        "id": "1v9xE0SLO2zw"
      },
      "source": [
        "Creating queries that are unique (they cannot share words between them) and result in the same cluster for both of them (but a different cluster than the original 'Mood disorder due to known acute rheumatoid arthritis' query)\n",
        "\n",
        "For example, if the original 'Mood disorder due to known acute rheumatoid arthritis' query resulted in cluster 4 then our two new queries should result both in cluster 0, 1, 2, or 3."
      ]
    },
    {
      "cell_type": "code",
      "metadata": {
        "id": "jy7GOFL7PY7c",
        "colab": {
          "base_uri": "https://localhost:8080/",
          "height": 34
        },
        "outputId": "0fa1fa31-9a90-438b-e883-5f01b8f4bc54"
      },
      "source": [
        "def predict_query(query):\n",
        "  query = vectorizer.transform([query])\n",
        "  predicted = model.predict(query)\n",
        "  print('query sentence belongs to cluster %d' % predicted[0])\n",
        "  \n",
        "query2 = 'Morning sickness is common in first trimester'\n",
        "query3 = 'glucose level soars up during pregnancy '\n",
        "predict_query(query2)\n"
      ],
      "execution_count": null,
      "outputs": [
        {
          "output_type": "stream",
          "text": [
            "query sentence belongs to cluster 1\n"
          ],
          "name": "stdout"
        }
      ]
    },
    {
      "cell_type": "code",
      "metadata": {
        "id": "EDA35a-lr6gY",
        "colab": {
          "base_uri": "https://localhost:8080/",
          "height": 34
        },
        "outputId": "e9df633d-0ad0-48c4-a186-e32b469bf562"
      },
      "source": [
        "predict_query(query3)"
      ],
      "execution_count": null,
      "outputs": [
        {
          "output_type": "stream",
          "text": [
            "query sentence belongs to cluster 1\n"
          ],
          "name": "stdout"
        }
      ]
    },
    {
      "cell_type": "markdown",
      "metadata": {
        "id": "FjB1D8nMReXE"
      },
      "source": [
        "#Increasing the value of true_k (number of clusters) until our two queries end up in different clusters"
      ]
    },
    {
      "cell_type": "code",
      "metadata": {
        "id": "6eSleAyhR0NK",
        "colab": {
          "base_uri": "https://localhost:8080/",
          "height": 51
        },
        "outputId": "999479e1-d1d9-4521-da1e-4fe1a868ed1e"
      },
      "source": [
        "true_k = 6\n",
        "model = KMeans(n_clusters=true_k, init='k-means++', max_iter=100, n_init=1)\n",
        "model.fit(X)\n",
        "clust_labels = model.predict(X)\n",
        "\n",
        "order_centroids = model.cluster_centers_.argsort()[:, ::-1]\n",
        "terms = vectorizer.get_feature_names()\n",
        "\n",
        "predict_query(query2)\n",
        "predict_query(query3)"
      ],
      "execution_count": null,
      "outputs": [
        {
          "output_type": "stream",
          "text": [
            "query sentence belongs to cluster 5\n",
            "query sentence belongs to cluster 2\n"
          ],
          "name": "stdout"
        }
      ]
    }
  ]
}